{
 "cells": [
  {
   "cell_type": "markdown",
   "id": "d4af9655-c936-4c60-916d-16020ec90b4b",
   "metadata": {},
   "source": [
    "# <center>Theoretical Part </center>"
   ]
  },
  {
   "cell_type": "markdown",
   "id": "ba306bef-82c6-451d-aab8-c6a6456daf6e",
   "metadata": {
    "tags": []
   },
   "source": [
    "### Model Settings\n",
    "From https://alisdairmckay.com/Notes/HetAgents/RBC\n",
    "\n",
    "- Preferences: $$\\mathbb{E}_0\\sum_{t=0}^\\infty \\beta^t \\frac{C_t^{1-\\gamma}}{1-\\gamma}$$\n",
    "- Technologies: $$Y_t = Z_t K_{t-1}^{\\alpha}\\bar{L}^{1-\\alpha} $$\n",
    "- Capital Evolution: $$K_t = (1-\\delta)K_{t-1}+Y_t-C_t$$\n",
    "- Productivity: $$\\log Z_t = \\rho \\log Z_{t-1}+\\epsilon_t$$"
   ]
  },
  {
   "cell_type": "markdown",
   "id": "10e63995-fb71-40c9-a828-57b5eae1c160",
   "metadata": {},
   "source": [
    "### Equilibrium\n",
    "- Euler Equation: $$C_t^{-\\gamma} =  \\beta \\mathbb{E}_t [R_{t+1}C_{t+1}^{-\\gamma}] $$\n",
    "- F.O.C: $$R_t = \\alpha Z_t (K_{t-1}/\\bar{L})^{\\alpha-1}+1-\\delta$$ \n",
    "- Capital Law of Motion: $$K_t=(1-\\delta)K_{t-1}+Y_t-C_t$$\n",
    "- Production Function: $$Y_t = Z_t K_{t-1}^\\alpha \\bar{L}^{1-\\alpha}$$\n",
    "- Productivity Shock: $$\\log Z_t = \\rho \\log Z_{t-1}+\\epsilon_t$$"
   ]
  },
  {
   "cell_type": "markdown",
   "id": "9a09db38-2fb4-432d-839b-12fb90a405d3",
   "metadata": {},
   "source": [
    "### Steady-State Values\n",
    "$$\\begin{align} Z &= 1 \\\\ Y &= K^\\alpha \\\\ R &= 1/\\beta \\\\ C&= Y-\\delta K \\\\ K & = \\left(\\frac{R-1+\\delta}{\\alpha} \\right)^{1/(\\alpha-1)}   \\end{align}$$"
   ]
  },
  {
   "cell_type": "markdown",
   "id": "c84b8aed-7648-4656-ac9f-94d09d3f7130",
   "metadata": {
    "tags": []
   },
   "source": [
    "### Algebric Equation:\n",
    "$$\\begin{align} \\mathbb{E}_t(r_{t+1}-\\gamma(c_{t+1}-c_t))&=0 \\\\ r_t &= (1-\\beta +\\beta\\delta)(z_t+(\\alpha-1)k_t) \\\\  c_t &=  \\frac{{Y}}{{C}}z_t + \\frac{{K}}{{C}}{R}k_{t-1} - \\frac{{K}}{{C}}k_t \\\\  y_t &= z_t + \\alpha k_{t-1}  \\\\ z_t & = \\rho z_{t-1} + \\epsilon_t    \\end{align}$$"
   ]
  },
  {
   "cell_type": "markdown",
   "id": "b9801028-354e-4bc2-925b-d023d93de473",
   "metadata": {},
   "source": [
    "# <center> Perturbation </center>"
   ]
  },
  {
   "cell_type": "code",
   "execution_count": 1,
   "id": "b677e689-ba06-463a-803e-48aefda55f0d",
   "metadata": {
    "tags": []
   },
   "outputs": [],
   "source": [
    "import numpy as np\n",
    "import scipy as sp\n",
    "import sympy\n",
    "import matplotlib.pyplot as plt"
   ]
  },
  {
   "cell_type": "code",
   "execution_count": 2,
   "id": "b82fca5c-5aab-4f8e-9bdd-408d9d9abdba",
   "metadata": {
    "tags": []
   },
   "outputs": [],
   "source": [
    "## Initialization:\n",
    "# Parameters\n",
    "alpha = 0.40\n",
    "beta  = 0.98\n",
    "gamma = 2.00\n",
    "delta = 0.02\n",
    "rho   = 0.95\n",
    "\n",
    "# Index\n",
    "nX = 5\n",
    "iZ, iR, iK, iY, iC = range(nX)\n",
    "\n",
    "# SS\n",
    "eps_SS = 0"
   ]
  },
  {
   "cell_type": "code",
   "execution_count": 3,
   "id": "1e16b74f-be57-406d-b2b9-3a79d08abec5",
   "metadata": {
    "tags": []
   },
   "outputs": [],
   "source": [
    "## Steady-State Values\n",
    "def SS():\n",
    "    \n",
    "    \"\"\"\n",
    "     Solve the Steady-state equilibrium using Python symbolic package\n",
    "     Sympy\n",
    "    \"\"\"\n",
    "    \n",
    "    sZ, sR, sK, sY, sC = sympy.symbols('sZ, sR, sK, sY, sC')\n",
    "\n",
    "    Eq_Euler = sympy.Eq(beta * sR ,1)\n",
    "    Eq_FOC   = sympy.Eq(alpha * sZ * sK**(alpha-1) + 1 - delta - sR,0)\n",
    "    Eq_LMK   = sympy.Eq(sY - delta*sK - sC,0)\n",
    "    Eq_Pro   = sympy.Eq(sZ * sK**alpha - sY,0)\n",
    "    Eq_Z     = sympy.Eq(sympy.log(sZ) * (rho-1) + eps_SS,0)\n",
    "    \n",
    "    solution = sympy.solve(Eq_Z, sZ)\n",
    "    Z = solution[0]\n",
    "    \n",
    "    solution = sympy.solve((Eq_Euler),(sR))\n",
    "    R = solution[0]\n",
    "    \n",
    "    solution = sympy.solve((Eq_FOC.subs({sZ:Z, sR:R}), Eq_LMK, Eq_Pro.subs({sZ:Z})),(sY, sK, sC))\n",
    "    Y, K, C = solution[0]\n",
    "    \n",
    "    X = np.zeros(nX)\n",
    "    X[[iZ, iR, iK, iY, iC]] = (Z, R, K, Y, C)\n",
    "    \n",
    "    return Z, R, K, Y, C, X\n",
    "    "
   ]
  },
  {
   "cell_type": "code",
   "execution_count": 4,
   "id": "c64a780b-3248-42f4-862d-2112a8cbc80d",
   "metadata": {
    "tags": []
   },
   "outputs": [
    {
     "name": "stdout",
     "output_type": "stream",
     "text": [
      "Z = 1.00000000000000 \n",
      "R = 1.02040816326531 \n",
      "K = 45.6371100551637 \n",
      "Y = 4.61027948516450 \n",
      "C = 3.69753728406123 \n",
      "X = [ 1.          1.02040816 45.63711006  4.61027949  3.69753728]\n"
     ]
    }
   ],
   "source": [
    "Z, R, K, Y, C, X = SS()\n",
    "print('Z =',Z,'\\nR =',R,'\\nK =',K,'\\nY =',Y,'\\nC =',C,'\\nX =',X)"
   ]
  },
  {
   "cell_type": "markdown",
   "id": "d5bb3882-0aee-4e82-b3e0-fdfca1ea5a18",
   "metadata": {},
   "source": [
    "### Uhlig (2009) Algorithm\n",
    "##### Approach I: k is the only state variable\n",
    "1. Write into canonical Form:\n",
    "$\\tilde{x}_t$ is endogenous state variables, $\\tilde{y}_t$ is endogenous other variables, $\\tilde{z}_t$ is exogenous shocks, all formula below is in Matrix Formm\n",
    "$$\\begin{cases} 0 = A\\tilde{x}_t + B\\tilde{x}_{t-1}+C\\tilde{y}_t+D\\tilde{z}_t \\\\  0 = E_t[F\\tilde{x}_{t+1}+G\\tilde{x}_t+H\\tilde{x}_{t-1} + J\\tilde{y}_{t+1}+ K \\tilde{y}_t + L\\tilde{z}_{t+1}+M\\tilde{z}_t]   \\\\  \\tilde{z}_{t+1}  = N\\tilde{z}_t +\\epsilon_{t+1};\\quad E_t[\\epsilon_{t+1}]=0 \\end{cases}\\tag{3}$$\n",
    "\n",
    "Here:\n",
    "$$A=\\begin{bmatrix}(1-\\beta+\\beta\\delta)(\\alpha-1) \\\\ -K/C \\\\ 0 \\end{bmatrix} \\quad B=\\begin{bmatrix}0 \\\\ K/(\\beta C) \\\\ \\alpha \\end{bmatrix} \\quad  C=\\begin{bmatrix}0 & -1 & 0 \\\\ -1 & 0 & 0 \\\\ 0 & 0 & -1 \\end{bmatrix} \\quad D=\\begin{bmatrix}(1-\\beta+\\beta\\delta) \\\\ Y/C \\\\ 1 \\end{bmatrix}$$\n",
    "\n",
    "$$F = 0 \\quad G = 0 \\quad H = 0 \\quad J = \\begin{bmatrix}-\\gamma & 1 & 0\\end{bmatrix}\\quad K = \\begin{bmatrix}\\gamma & 0 & 0\\end{bmatrix}\\quad L = 0\\quad M = 0$$\n",
    "$$ N = \\rho$$"
   ]
  },
  {
   "cell_type": "code",
   "execution_count": 5,
   "id": "18dc1a4a-0ad6-4e64-8976-489d8e151429",
   "metadata": {},
   "outputs": [
    {
     "data": {
      "text/plain": [
       "(array([[0.]]), array([[0.]]), array([[0.]]), array([[0.]]), array([[0.]]))"
      ]
     },
     "execution_count": 5,
     "metadata": {},
     "output_type": "execute_result"
    }
   ],
   "source": [
    "F = G = H = L = M = np.zeros((1,1),dtype=float)\n",
    "F, G, H, L, M"
   ]
  },
  {
   "cell_type": "code",
   "execution_count": 6,
   "id": "dc8306c9-ad76-4b9b-b609-4e2224a7a550",
   "metadata": {
    "tags": []
   },
   "outputs": [
    {
     "data": {
      "text/plain": [
       "array([[ -0.02376   ],\n",
       "       [-12.34256927],\n",
       "       [  0.        ]])"
      ]
     },
     "execution_count": 6,
     "metadata": {},
     "output_type": "execute_result"
    }
   ],
   "source": [
    "A = np.zeros((3,1),dtype=float)\n",
    "A[0] = (1-beta+beta*delta)*(alpha-1)\n",
    "A[1] = -K/C\n",
    "A"
   ]
  },
  {
   "cell_type": "code",
   "execution_count": 7,
   "id": "e7bd0946-c9a5-4ce1-9178-159b4d5d5845",
   "metadata": {
    "tags": []
   },
   "outputs": [
    {
     "data": {
      "text/plain": [
       "array([[ 0.        ],\n",
       "       [12.59445844],\n",
       "       [ 0.4       ]])"
      ]
     },
     "execution_count": 7,
     "metadata": {},
     "output_type": "execute_result"
    }
   ],
   "source": [
    "B = np.zeros((3,1),dtype=float)\n",
    "B[1] = K/(beta * C)\n",
    "B[2] = alpha\n",
    "B"
   ]
  },
  {
   "cell_type": "code",
   "execution_count": 8,
   "id": "d6c0ed73-c4a3-4d8c-9938-1499804f98e8",
   "metadata": {
    "tags": []
   },
   "outputs": [
    {
     "data": {
      "text/plain": [
       "array([[ 0., -1.,  0.],\n",
       "       [-1.,  0.,  0.],\n",
       "       [ 0.,  0., -1.]])"
      ]
     },
     "execution_count": 8,
     "metadata": {},
     "output_type": "execute_result"
    }
   ],
   "source": [
    "CM = np.zeros((3,3),dtype=float)\n",
    "CM[0,1]=CM[1,0]=CM[2,2]=-1\n",
    "CM"
   ]
  },
  {
   "cell_type": "code",
   "execution_count": 9,
   "id": "2e21c7b7-8cb7-405e-90a4-97e414c08ea2",
   "metadata": {
    "tags": []
   },
   "outputs": [
    {
     "data": {
      "text/plain": [
       "array([[0.0396    ],\n",
       "       [1.24685139],\n",
       "       [1.        ]])"
      ]
     },
     "execution_count": 9,
     "metadata": {},
     "output_type": "execute_result"
    }
   ],
   "source": [
    "D = np.zeros((3,1))\n",
    "D[0] = 1-beta+beta*delta\n",
    "D[1] = Y/C\n",
    "D[2] = 1\n",
    "D"
   ]
  },
  {
   "cell_type": "code",
   "execution_count": 10,
   "id": "fa17aad0-6c0e-45a9-9ff0-c144647b2334",
   "metadata": {
    "tags": []
   },
   "outputs": [
    {
     "data": {
      "text/plain": [
       "array([[-2.,  1.,  0.]])"
      ]
     },
     "execution_count": 10,
     "metadata": {},
     "output_type": "execute_result"
    }
   ],
   "source": [
    "J = np.zeros((1,3),dtype=float)\n",
    "J[0,0] = -gamma\n",
    "J[0,1] = 1\n",
    "J"
   ]
  },
  {
   "cell_type": "code",
   "execution_count": 11,
   "id": "eea17638-00d4-4a7d-9bc7-24838cb6ba35",
   "metadata": {
    "tags": []
   },
   "outputs": [
    {
     "data": {
      "text/plain": [
       "array([[2., 0., 0.]])"
      ]
     },
     "execution_count": 11,
     "metadata": {},
     "output_type": "execute_result"
    }
   ],
   "source": [
    "KM = np.zeros((1,3),dtype=float)\n",
    "KM[0,0] = gamma\n",
    "KM"
   ]
  },
  {
   "cell_type": "code",
   "execution_count": 12,
   "id": "4b49272c-ca5c-46b1-8b6d-580aa35733a8",
   "metadata": {
    "tags": []
   },
   "outputs": [
    {
     "data": {
      "text/plain": [
       "array([[0.95]])"
      ]
     },
     "execution_count": 12,
     "metadata": {},
     "output_type": "execute_result"
    }
   ],
   "source": [
    "N = rho * np.ones((1,1),dtype=float)\n",
    "N"
   ]
  },
  {
   "cell_type": "markdown",
   "id": "8c9d2d7e-59fa-42b4-85ba-1ab60d56bfaf",
   "metadata": {},
   "source": [
    "2. Construct the Quadratic Equation\n",
    "Assume that $$\\begin{cases} x_t = Px_{t-1}+Qz_t \\\\ y_t = Rx_{t-1} + Sz_t \\end{cases} \\tag{4}$$\n",
    "\n",
    "Then we have\n",
    "$$\\Psi P^2 -\\Gamma P - \\Theta = 0$$\n",
    "\n",
    "Here\n",
    "$$\\Psi = \\begin{bmatrix} 0 \\\\ F-JC^+A \\end{bmatrix}\\quad \\Gamma = \\begin{bmatrix} C^0A \\\\ JC^+B-G+KC^+A \\end{bmatrix}\\quad \\Theta = \\begin{bmatrix} C^0B \\\\ KC^+B -H \\end{bmatrix}$$"
   ]
  },
  {
   "cell_type": "code",
   "execution_count": 13,
   "id": "1ec1f241-c7a3-47f2-98d8-820b7cf86e67",
   "metadata": {
    "tags": []
   },
   "outputs": [
    {
     "data": {
      "text/plain": [
       "array([[ 0., -1.,  0.],\n",
       "       [-1.,  0.,  0.],\n",
       "       [ 0.,  0., -1.]])"
      ]
     },
     "execution_count": 13,
     "metadata": {},
     "output_type": "execute_result"
    }
   ],
   "source": [
    "Cplus = np.linalg.inv(CM.T@CM)@CM.T\n",
    "Cplus\n",
    "\n",
    "# since C is inversable $l\\times l$ matrix, $C^0$ disappear and the first n rows in illustration above disappear.\n",
    "# In Corollary 1 in Uhlig (1999) "
   ]
  },
  {
   "cell_type": "code",
   "execution_count": 14,
   "id": "8d95d4d3-5e86-48be-aa6e-19d4082b13be",
   "metadata": {
    "tags": []
   },
   "outputs": [
    {
     "data": {
      "text/plain": [
       "array([[24.66137854]])"
      ]
     },
     "execution_count": 14,
     "metadata": {},
     "output_type": "execute_result"
    }
   ],
   "source": [
    "Psi = F - J@Cplus@A\n",
    "Psi"
   ]
  },
  {
   "cell_type": "code",
   "execution_count": 15,
   "id": "9cd28871-72d9-4472-a17c-79658990ee4d",
   "metadata": {
    "tags": []
   },
   "outputs": [
    {
     "data": {
      "text/plain": [
       "array([[49.87405542]])"
      ]
     },
     "execution_count": 15,
     "metadata": {},
     "output_type": "execute_result"
    }
   ],
   "source": [
    "Gamma =  J@Cplus@B - G + KM@Cplus@A\n",
    "Gamma"
   ]
  },
  {
   "cell_type": "code",
   "execution_count": 16,
   "id": "630d924b-4b9b-4b8d-bce7-2c706678b028",
   "metadata": {
    "tags": []
   },
   "outputs": [
    {
     "data": {
      "text/plain": [
       "array([[-25.18891688]])"
      ]
     },
     "execution_count": 16,
     "metadata": {},
     "output_type": "execute_result"
    }
   ],
   "source": [
    "Theta = KM@Cplus@B - H\n",
    "Theta"
   ]
  },
  {
   "cell_type": "markdown",
   "id": "7f87f712-2482-4771-aacd-fb14bc7a6d64",
   "metadata": {},
   "source": [
    "\n",
    "\n",
    "3. Solve the quadratic problem to get $P$\n",
    "\n",
    "> If there is a recursive equilibrium law of motion solving equations (4) then the following must be true\n",
    "> $P$ satisfies the (matrix) quadratic equation $$ \\Psi P^2 - \\Gamma P - \\Theta = 0$$\n",
    "> The equilibrium described by the recursive equilibrium law of motion is stable iff  all eigenvalues of $P$ are smaller than unity in absolute value\n",
    "> \n",
    "> To solve $P$, define the $2m\\times 2m$ matrices $\\Xi$ and $\\Delta$ via $$\\Xi = \\begin{bmatrix} \\Gamma & \\Theta \\\\ I_m & 0_{m\\times m}\\end{bmatrix}$$ \n",
    "> and $$\\Delta = \\begin{bmatrix} \\Psi &  0_{m\\times m} \\\\ 0_{m\\times m} & I_m\\end{bmatrix}$$\n",
    "> $s$ and $\\lambda$ are generalized eigenvectors and eigenvalues\n",
    "> 1. $s$ can be written as $$ s = \\begin{bmatrix} \\lambda x \\\\ x \\end{bmatrix}$$\n",
    "> 2. If there are m generalized eigenvalues $\\lambda_1, \\lambda_2, \\cdots, \\lambda_m$ and corresponding m generalized eigenvectors $s_1, s_2, \\cdots, s_m$, written as $s_i' = [\\lambda_i x_i',x_i']$ for some $x_i \\in \\mathbb{R}^m$, and if $(x_1,x_2,\\cdots,x_m)$ is linearly independent, then \\begin{align}P = \\overbrace{\\Omega}^{\\large \\Omega = [x_1,x_2,\\cdots,x_m]} \\underbrace{\\Lambda}_{\\large\\Lambda= [\\lambda,\\lambda_2,\\cdots, \\lambda_m]} \\Omega^{-1} \\end{align}"
   ]
  },
  {
   "cell_type": "markdown",
   "id": "0d338050-e517-4d2e-b1c7-a92609e24fb3",
   "metadata": {},
   "source": [
    "3.1 **Use Generalized Eigenvector Routine, calculate eigenvalues directly**"
   ]
  },
  {
   "cell_type": "code",
   "execution_count": 17,
   "id": "b80216d9-9c73-4cb1-8d2c-ae7ea9c3bc08",
   "metadata": {
    "tags": []
   },
   "outputs": [
    {
     "data": {
      "text/plain": [
       "array([[ 49.87405542, -25.18891688],\n",
       "       [  1.        ,   0.        ]])"
      ]
     },
     "execution_count": 17,
     "metadata": {},
     "output_type": "execute_result"
    }
   ],
   "source": [
    "# P is 1 by 1 matrix, so a normal quadratic solver is enough.\n",
    "# Here, to check the generalized eigenvector approach,\n",
    "# I still follow the way in Uhlig (1999)\n",
    "\n",
    "Xi = np.hstack((Gamma, Theta))\n",
    "Temp = np.array((1,0))\n",
    "Xi = np.vstack((Xi, Temp))\n",
    "Xi"
   ]
  },
  {
   "cell_type": "code",
   "execution_count": 18,
   "id": "107a44e2-7f30-4859-bf5e-63c7d25fc46a",
   "metadata": {
    "tags": []
   },
   "outputs": [
    {
     "data": {
      "text/plain": [
       "array([[24.66137854,  1.        ],\n",
       "       [ 0.        ,  1.        ]])"
      ]
     },
     "execution_count": 18,
     "metadata": {},
     "output_type": "execute_result"
    }
   ],
   "source": [
    "Temp = np.ones((1,1))\n",
    "Delta = np.hstack((Psi, Temp))\n",
    "Temp = np.hstack((0,1))\n",
    "Delta = np.vstack((Delta, Temp))\n",
    "Delta"
   ]
  },
  {
   "cell_type": "code",
   "execution_count": 19,
   "id": "f93fa074-99cf-4339-b81c-7a608021d4e4",
   "metadata": {
    "tags": []
   },
   "outputs": [
    {
     "data": {
      "text/plain": [
       "(array([0.99090275+0.19875368j, 0.99090275-0.19875368j]),\n",
       " array([[0.7108384 +0.j        , 0.7108384 -0.j        ],\n",
       "        [0.68961987-0.13832284j, 0.68961987+0.13832284j]]))"
      ]
     },
     "execution_count": 19,
     "metadata": {},
     "output_type": "execute_result"
    }
   ],
   "source": [
    "lambdaP, sP = np.linalg.eig(np.linalg.inv(Delta)@Xi)\n",
    "lambdaP, sP"
   ]
  },
  {
   "cell_type": "code",
   "execution_count": 20,
   "id": "097ccdc3-0a4a-4b40-a82d-7c2d7d16c4d1",
   "metadata": {
    "tags": []
   },
   "outputs": [
    {
     "data": {
      "text/plain": [
       "((0.9909027457293565+0.19875367619994672j),\n",
       " (0.6896198702633299-0.13832284246470672j))"
      ]
     },
     "execution_count": 20,
     "metadata": {},
     "output_type": "execute_result"
    }
   ],
   "source": [
    "lambdaP1 = lambdaP[0]\n",
    "xP = sP[1,0]\n",
    "lambdaP1, xP"
   ]
  },
  {
   "cell_type": "code",
   "execution_count": 21,
   "id": "b7de9a42-8e3d-4542-a18e-36393ee270fd",
   "metadata": {
    "tags": []
   },
   "outputs": [
    {
     "data": {
      "text/plain": [
       "(0.9909027457293565+0.19875367619994672j)"
      ]
     },
     "execution_count": 21,
     "metadata": {},
     "output_type": "execute_result"
    }
   ],
   "source": [
    "P = xP.T*lambdaP1.T/xP.T\n",
    "P"
   ]
  },
  {
   "cell_type": "markdown",
   "id": "5d0e0218-c2eb-43a2-b633-e0446cea50e2",
   "metadata": {},
   "source": [
    "<font color = #f33> Unfortunately, the matrix $P$ is complex, as mentioned in Uhlig 1999, enlarging the state-variable space is necessary, see below, approach II</font>"
   ]
  },
  {
   "cell_type": "markdown",
   "id": "7901ba47-8a14-458e-959b-be61357c3ba6",
   "metadata": {},
   "source": [
    "3.2 **Solve scale quadratic equation directly**"
   ]
  },
  {
   "cell_type": "code",
   "execution_count": 22,
   "id": "704b07df-25e9-4de9-80e8-e4d593ddfb6c",
   "metadata": {
    "tags": []
   },
   "outputs": [
    {
     "data": {
      "text/plain": [
       "(array([[0.97818671]]), array([[1.04416802]]))"
      ]
     },
     "execution_count": 22,
     "metadata": {},
     "output_type": "execute_result"
    }
   ],
   "source": [
    "# Double Check\n",
    "P1 = (Gamma - np.sqrt(Gamma**2+4*Psi*Theta))/(2*Psi)\n",
    "P2 = (Gamma + np.sqrt(Gamma**2+4*Psi*Theta))/(2*Psi)\n",
    "P1, P2"
   ]
  },
  {
   "cell_type": "markdown",
   "id": "da79ac75-dbd6-4f28-b7b9-069e63dfec92",
   "metadata": {},
   "source": [
    "4. Solve the remaining coefficient matrice $R$, $Q$, and $S$\n",
    "> Given $P$, $R$ is given by $$R = -C^+ (AP+B)$$\n",
    "> \n",
    "> Given $P$ and $R$, $Q$ and $S$ are given by: $$\\begin{align} &V \\begin{bmatrix} vec(Q) \\\\ vec{(S)} \\end{bmatrix} = - \\begin{bmatrix}vec(D) \\\\ vec(LN+M) \\end{bmatrix} \\\\ &\\downarrow \\\\ V = & \\begin{bmatrix}I_k \\otimes A & I_k \\otimes C \\\\ N'\\otimes F + I_k \\otimes (FP+JR+G) & N'\\otimes J+I_k\\otimes K \\end{bmatrix}  \\end{align}$$\n",
    "\n",
    "\n",
    " \n"
   ]
  },
  {
   "cell_type": "code",
   "execution_count": 23,
   "id": "5febcab9-afe5-4d35-849f-1316e81e2353",
   "metadata": {
    "tags": []
   },
   "outputs": [
    {
     "data": {
      "text/plain": [
       "array([[ 0.52112122],\n",
       "       [-0.02324172],\n",
       "       [ 0.4       ]])"
      ]
     },
     "execution_count": 23,
     "metadata": {},
     "output_type": "execute_result"
    }
   ],
   "source": [
    "R = -Cplus @ (B + A@P1)\n",
    "R"
   ]
  },
  {
   "cell_type": "code",
   "execution_count": 24,
   "id": "9bb1909f-c92f-4a54-b1e9-0972c1eb2538",
   "metadata": {
    "tags": []
   },
   "outputs": [
    {
     "data": {
      "text/plain": [
       "array([[ -0.02376   ,   0.        ,  -1.        ,   0.        ],\n",
       "       [-12.34256927,  -1.        ,   0.        ,   0.        ],\n",
       "       [  0.        ,   0.        ,   0.        ,  -1.        ],\n",
       "       [ -1.06548417,   0.1       ,   0.95      ,   0.        ]])"
      ]
     },
     "execution_count": 24,
     "metadata": {},
     "output_type": "execute_result"
    }
   ],
   "source": [
    "I = np.eye(1,dtype = float)\n",
    "V1 = np.hstack((np.kron(I,A),np.kron(I,CM)))\n",
    "V2 = np.hstack(((np.kron(N,F)+np.kron(I,(F*P1+J@R+G))),\n",
    "                (np.kron(N,J)+np.kron(I,KM))))\n",
    "V = np.vstack((V1, V2))\n",
    "V"
   ]
  },
  {
   "cell_type": "code",
   "execution_count": 25,
   "id": "e93fbb5e-ba8a-41a7-99da-99a10dae3305",
   "metadata": {
    "tags": []
   },
   "outputs": [
    {
     "data": {
      "text/plain": [
       "array([[0.06988943],\n",
       "       [0.38423625],\n",
       "       [0.03793943],\n",
       "       [1.        ]])"
      ]
     },
     "execution_count": 25,
     "metadata": {},
     "output_type": "execute_result"
    }
   ],
   "source": [
    "vec_QS = -np.linalg.inv(V) @ np.vstack((D,L@N+M)) # D and LN+M itself is a column vector here\n",
    "vec_QS"
   ]
  },
  {
   "cell_type": "code",
   "execution_count": 26,
   "id": "546d3dcc-efa1-4d63-ae0c-17e41c6aa04e",
   "metadata": {
    "tags": []
   },
   "outputs": [
    {
     "data": {
      "text/plain": [
       "(array([0.06988943]),\n",
       " array([[0.38423625],\n",
       "        [0.03793943],\n",
       "        [1.        ]]))"
      ]
     },
     "execution_count": 26,
     "metadata": {},
     "output_type": "execute_result"
    }
   ],
   "source": [
    "Q = vec_QS[0]\n",
    "S = vec_QS[1:]\n",
    "Q,S"
   ]
  },
  {
   "cell_type": "markdown",
   "id": "4bb4789d-e46f-4e51-8963-42aa3849b2e9",
   "metadata": {
    "tags": []
   },
   "source": [
    "### Impluse Response\n",
    "\n",
    "$$\\begin{align}\\begin{bmatrix} x_t \\\\ y_t \\\\ z_t \\end{bmatrix} &= \\begin{bmatrix} P & \\mathbf{0} & 0 \\\\ R & \\mathbf{0} & 0 \\\\ \\mathbf{0} & \\mathbf{0} & N \\end{bmatrix}\\begin{bmatrix}x_{t-1} \\\\ y_{t-1}\\\\ z_{t-1}\\end{bmatrix}+ \\begin{bmatrix} Q \\\\ S \\\\ 0 \\end{bmatrix}z_t \\\\ & = \\begin{bmatrix} P & \\mathbf{0} & 0 \\\\ R & \\mathbf{0} & 0 \\\\ \\mathbf{0} & \\mathbf{0} & N \\end{bmatrix}\\begin{bmatrix}x_{t-1} \\\\ y_{t-1}\\\\ z_{t-1}\\end{bmatrix}+ \\begin{bmatrix}0 &  \\mathbf{0} & Q \\\\ 0 & \\mathbf{0} & S \\\\ 0 & \\mathbf{0} & 0 \\end{bmatrix}\\begin{bmatrix} x_t \\\\ y_t \\\\ z_t \\end{bmatrix}\\end{align}$$"
   ]
  },
  {
   "cell_type": "code",
   "execution_count": 27,
   "id": "462f1d4d-c2cb-4ac4-9a2e-6daa5a5a5592",
   "metadata": {
    "tags": []
   },
   "outputs": [
    {
     "data": {
      "text/plain": [
       "array([[ 0.97818671,  0.        ,  0.        ,  0.        ,  0.        ],\n",
       "       [ 0.52112122,  0.        ,  0.        ,  0.        ,  0.        ],\n",
       "       [-0.02324172,  0.        ,  0.        ,  0.        ,  0.        ],\n",
       "       [ 0.4       ,  0.        ,  0.        ,  0.        ,  0.        ],\n",
       "       [ 0.        ,  0.        ,  0.        ,  0.        ,  0.95      ]])"
      ]
     },
     "execution_count": 27,
     "metadata": {},
     "output_type": "execute_result"
    }
   ],
   "source": [
    "num_periods = 80  # Number of periods for the IRF\n",
    "\n",
    "# Initialize the impulse response\n",
    "irf = np.zeros((5,num_periods))\n",
    "\n",
    "# Set the initial impulse\n",
    "irf[0:5,0:1] = np.vstack((Q,S,np.ones((1,1))))*0.01\n",
    "\n",
    "# Set the coefficient matrice CI0\n",
    "CI0_1 = np.hstack((P1,np.zeros((1,4))))\n",
    "CI0_2 = np.hstack((R,np.zeros((3,4))))\n",
    "CI0_3 = np.hstack((np.zeros(((1,4))),N))\n",
    "CI0 = np.vstack((CI0_1, CI0_2, CI0_3))\n",
    "CI0"
   ]
  },
  {
   "cell_type": "code",
   "execution_count": 28,
   "id": "9accf063-d0a1-4256-9874-42c3af05978f",
   "metadata": {
    "tags": []
   },
   "outputs": [
    {
     "data": {
      "text/plain": [
       "array([[0.        , 0.        , 0.        , 0.        , 0.06988943],\n",
       "       [0.        , 0.        , 0.        , 0.        , 0.38423625],\n",
       "       [0.        , 0.        , 0.        , 0.        , 0.03793943],\n",
       "       [0.        , 0.        , 0.        , 0.        , 1.        ],\n",
       "       [0.        , 0.        , 0.        , 0.        , 0.        ]])"
      ]
     },
     "execution_count": 28,
     "metadata": {},
     "output_type": "execute_result"
    }
   ],
   "source": [
    "# Set the coefficient matrice CI1\n",
    "CI1 = np.vstack((Q,S,np.zeros((1,1))))\n",
    "CI1 = np.hstack((np.zeros((5,4)),CI1))\n",
    "CI1"
   ]
  },
  {
   "cell_type": "code",
   "execution_count": 29,
   "id": "d248ca3f-3589-4704-8d92-7b11a7148ce2",
   "metadata": {
    "tags": []
   },
   "outputs": [
    {
     "data": {
      "image/png": "[encoded data removed]",
      "text/plain": [
       "<Figure size 640x480 with 1 Axes>"
      ]
     },
     "metadata": {},
     "output_type": "display_data"
    }
   ],
   "source": [
    "# Calculate the impulse response function\n",
    "for t in range(1, num_periods):\n",
    "    irf[:,t:t+1] = np.linalg.inv(np.eye((5))-CI1) @ CI0 @ irf[:,t-1:t] \n",
    "\n",
    "# Plot the impulse response function\n",
    "plt.plot(range(num_periods), irf[0,:], marker='.')\n",
    "plt.plot(range(num_periods), irf[1,:], marker='.')\n",
    "plt.plot(range(num_periods), irf[2,:], marker='.')\n",
    "plt.plot(range(num_periods), irf[3,:], marker='.')\n",
    "plt.plot(range(num_periods), irf[4,:], marker='.')\n",
    "plt.xlabel(\"Time\")\n",
    "plt.ylabel(\"Impulse Response\")\n",
    "plt.title(\"Impulse Response of k, r, c, y, z\")\n",
    "plt.legend(('k','r','c','y','z'))\n",
    "plt.grid()\n",
    "plt.show()"
   ]
  },
  {
   "cell_type": "code",
   "execution_count": null,
   "id": "8b2aa602-1691-45c3-90e6-52f1f983825a",
   "metadata": {},
   "outputs": [],
   "source": []
  }
 ],
 "metadata": {
  "kernelspec": {
   "display_name": "Python 3 (ipykernel)",
   "language": "python",
   "name": "python3"
  },
  "language_info": {
   "codemirror_mode": {
    "name": "ipython",
    "version": 3
   },
   "file_extension": ".py",
   "mimetype": "text/x-python",
   "name": "python",
   "nbconvert_exporter": "python",
   "pygments_lexer": "ipython3",
   "version": "3.11.4"
  }
 },
 "nbformat": 4,
 "nbformat_minor": 5
}
